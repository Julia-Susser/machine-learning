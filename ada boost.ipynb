{
 "cells": [
  {
   "cell_type": "code",
   "execution_count": 34,
   "id": "fffabe5a-d527-46bd-8f81-a279615721db",
   "metadata": {},
   "outputs": [],
   "source": [
    "import numpy as np\n",
    "\n",
    "X = np.array([[1,2],[2,2],[3,3],[4,3]])\n",
    "Y = [1,-1,1,-1]\n",
    "\n"
   ]
  },
  {
   "cell_type": "code",
   "execution_count": 199,
   "id": "d40463a1-20b0-48e8-97f9-b3e3edf921ab",
   "metadata": {},
   "outputs": [],
   "source": [
    "i = len(X)\n",
    "features = len(X[0]) #dimensions\n",
    "\n",
    "class boosting():\n",
    "    def __init__(self,T):\n",
    "        self.T = T\n",
    "        t = 0\n",
    "        self.d = [1/i for x in range(i)] #weight on each variable\n",
    "        self.H = []\n",
    "        self.alpha = []\n",
    "        while t < T:\n",
    "            self.iterate(t)\n",
    "            t += 1\n",
    "\n",
    "    def iterate(self,t):\n",
    "        self.h_t()\n",
    "        self.a_t(t)\n",
    "        print(self.alpha)\n",
    "        self.d_t(t)\n",
    "        # print(self.d,self.H,self.alpha)\n",
    "        \n",
    "    def d_t(self,t):\n",
    "        new_d = [None for v in range(i)]\n",
    "        h_t = self.H[t]\n",
    "        for v in range(i):\n",
    "            if self.evaluate(X[v],Y[v],h_t):\n",
    "                new_d[v] = self.d[v]*np.exp(-self.alpha[t])\n",
    "            else:\n",
    "                new_d[v] = self.d[v]*np.exp(self.alpha[t])\n",
    "        Z_norm = sum(new_d)\n",
    "        self.d = [d/Z_norm for d in new_d]\n",
    "        print(self.d)\n",
    "                    \n",
    "    def evaluate(self,x,y,h):\n",
    "        split = h[0]\n",
    "        feature = h[1]\n",
    "        ys = h[2]\n",
    "        eval = ((y == ys[0]) * (x[feature]<split) | (y == ys[1]) * (x[feature]>=split))\n",
    "        return eval\n",
    "        \n",
    "    def error(self,h):\n",
    "        e = 0\n",
    "        for v in range(i):\n",
    "            if not self.evaluate(X[v],Y[v],h):\n",
    "                e += self.d[v]\n",
    "        return e\n",
    "    \n",
    "\n",
    "    def predict(self,x):\n",
    "        val = 0\n",
    "        for t in range(self.T):\n",
    "            h_t = self.H[t]\n",
    "            a_t = self.alpha[t]\n",
    "            val += a_t *(h_t[2][0]*(x[h_t[1]]<h_t[0])+h_t[2][1]*(x[h_t[1]]>=h_t[0]))\n",
    "        return np.sign(val)\n",
    "            \n",
    "               \n",
    "    def a_t(self,t): #weights on each weak classifier\n",
    "        e = self.error(self.H[t])\n",
    "        alpha = .5*np.log((1-e)/e)\n",
    "        self.alpha.append(alpha)\n",
    "    def select_ai(self)\n",
    "    def h_t(self):\n",
    "        best = float('inf')\n",
    "        for j in range(features):\n",
    "            X_sorted = X[np.argsort(X[:, j])][:,j]\n",
    "            for split in range(len(X_sorted) - 1):\n",
    "                for ys in [[-1, 1], [1, -1]]:\n",
    "                    e = self.error([X_sorted[split], j, ys])\n",
    "                if e < best:\n",
    "                    best = e\n",
    "                    h_t = [X_sorted[split], j, ys]\n",
    "        \n",
    "        self.H.append(h_t)\n",
    "                       \n",
    "\n",
    "         "
   ]
  },
  {
   "cell_type": "code",
   "execution_count": 200,
   "id": "af973941-7923-4f31-8a39-623707624a34",
   "metadata": {},
   "outputs": [
    {
     "name": "stdout",
     "output_type": "stream",
     "text": [
      "[0.5493061443340549]\n",
      "[0.16666666666666666, 0.16666666666666666, 0.5, 0.16666666666666666]\n",
      "[0.5493061443340549, 0.0]\n",
      "[0.16666666666666669, 0.16666666666666669, 0.5000000000000001, 0.16666666666666669]\n",
      "[0.5493061443340549, 0.0, -2.2204460492503136e-16]\n",
      "[0.16666666666666669, 0.16666666666666669, 0.4999999999999999, 0.16666666666666669]\n",
      "[0.5493061443340549, 0.0, -2.2204460492503136e-16, 2.2204460492503126e-16]\n",
      "[0.16666666666666669, 0.16666666666666669, 0.5000000000000001, 0.16666666666666669]\n",
      "[0.5493061443340549, 0.0, -2.2204460492503136e-16, 2.2204460492503126e-16, -2.2204460492503136e-16]\n",
      "[0.16666666666666669, 0.16666666666666669, 0.4999999999999999, 0.16666666666666669]\n",
      "[0.5493061443340549, 0.0, -2.2204460492503136e-16, 2.2204460492503126e-16, -2.2204460492503136e-16, 2.2204460492503126e-16]\n",
      "[0.16666666666666669, 0.16666666666666669, 0.5000000000000001, 0.16666666666666669]\n",
      "[0.5493061443340549, 0.0, -2.2204460492503136e-16, 2.2204460492503126e-16, -2.2204460492503136e-16, 2.2204460492503126e-16, -2.2204460492503136e-16]\n",
      "[0.16666666666666669, 0.16666666666666669, 0.4999999999999999, 0.16666666666666669]\n",
      "[0.5493061443340549, 0.0, -2.2204460492503136e-16, 2.2204460492503126e-16, -2.2204460492503136e-16, 2.2204460492503126e-16, -2.2204460492503136e-16, 2.2204460492503126e-16]\n",
      "[0.16666666666666669, 0.16666666666666669, 0.5000000000000001, 0.16666666666666669]\n",
      "[0.5493061443340549, 0.0, -2.2204460492503136e-16, 2.2204460492503126e-16, -2.2204460492503136e-16, 2.2204460492503126e-16, -2.2204460492503136e-16, 2.2204460492503126e-16, -2.2204460492503136e-16]\n",
      "[0.16666666666666669, 0.16666666666666669, 0.4999999999999999, 0.16666666666666669]\n",
      "[0.5493061443340549, 0.0, -2.2204460492503136e-16, 2.2204460492503126e-16, -2.2204460492503136e-16, 2.2204460492503126e-16, -2.2204460492503136e-16, 2.2204460492503126e-16, -2.2204460492503136e-16, 2.2204460492503126e-16]\n",
      "[0.16666666666666669, 0.16666666666666669, 0.5000000000000001, 0.16666666666666669]\n"
     ]
    }
   ],
   "source": [
    "boost = boosting(10)"
   ]
  },
  {
   "cell_type": "code",
   "execution_count": 202,
   "id": "e29674f6-5b83-4560-a6b8-64a837f0c394",
   "metadata": {},
   "outputs": [
    {
     "data": {
      "text/plain": [
       "1.0"
      ]
     },
     "execution_count": 202,
     "metadata": {},
     "output_type": "execute_result"
    }
   ],
   "source": [
    "boost.predict([1,3])"
   ]
  },
  {
   "cell_type": "code",
   "execution_count": null,
   "id": "926e2900-0597-422b-8902-9a41efa59597",
   "metadata": {},
   "outputs": [],
   "source": []
  }
 ],
 "metadata": {
  "kernelspec": {
   "display_name": "Python 3 (ipykernel)",
   "language": "python",
   "name": "python3"
  },
  "language_info": {
   "codemirror_mode": {
    "name": "ipython",
    "version": 3
   },
   "file_extension": ".py",
   "mimetype": "text/x-python",
   "name": "python",
   "nbconvert_exporter": "python",
   "pygments_lexer": "ipython3",
   "version": "3.11.7"
  }
 },
 "nbformat": 4,
 "nbformat_minor": 5
}
