{
 "cells": [
  {
   "cell_type": "code",
   "execution_count": 34,
   "id": "fffabe5a-d527-46bd-8f81-a279615721db",
   "metadata": {},
   "outputs": [],
   "source": [
    "import numpy as np\n",
    "\n",
    "X = np.array([[1,2],[2,2],[3,3],[4,3]])\n",
    "Y = [1,-1,1,-1]\n",
    "\n"
   ]
  },
  {
   "cell_type": "code",
   "execution_count": 155,
   "id": "d40463a1-20b0-48e8-97f9-b3e3edf921ab",
   "metadata": {},
   "outputs": [],
   "source": [
    "i = len(X)\n",
    "features = len(X[0]) #dimensions\n",
    "\n",
    "class boosting():\n",
    "    def __init__(self,T):\n",
    "        t = 0\n",
    "        self.d = [1/i for x in range(i)] #weight on each variable\n",
    "        while t < T:\n",
    "            self.iterate()\n",
    "            t += 1\n",
    "\n",
    "    def iterate(self):\n",
    "        self.determine_H()\n",
    "        self.update_alpha()\n",
    "        self.update_d()\n",
    "        # print(self.d,self.H,self.alpha)\n",
    "        \n",
    "    def update_d(self):\n",
    "        new_d = [None for v in range(i)]\n",
    "        for j in range(features):\n",
    "            h = self.H[j]\n",
    "            for v in range(i):\n",
    "                if self.evaluate(X[v][j],Y[v],h):\n",
    "                    new_d[v] = self.d[v]*np.exp(-self.alpha[j])\n",
    "                else:\n",
    "                    new_d[v] = self.d[v]*np.exp(self.alpha[j])\n",
    "            Z_norm = sum(new_d)\n",
    "            self.d = [d/Z_norm for d in new_d]\n",
    "            print(self.d)\n",
    "                    \n",
    "    def evaluate(self,x,y,h):\n",
    "        split = h[0]\n",
    "        ys = h[1]\n",
    "        eval = ((y == ys[0]) * (x<split) | (y == ys[1]) * (x>=split))\n",
    "        return eval\n",
    "        \n",
    "    def error(self,h, j):\n",
    "        e = 0\n",
    "        for v in range(i):\n",
    "            if not self.evaluate(X[v][j],Y[v],h):\n",
    "                e += self.d[v]\n",
    "        return e\n",
    "    \n",
    "\n",
    "    def predict(self,x):\n",
    "        val = 0\n",
    "        for j in range(features):\n",
    "            h = self.H[j]\n",
    "            val += self.alpha[j]*(h[1][0]*(x[j]<h[0])+h[1][1]*(x[j]>=h[0]))\n",
    "        return np.sign(val)\n",
    "            \n",
    "               \n",
    "    def update_alpha(self): #weights on each weak classifier\n",
    "        self.alpha = [None for j in range(features)]\n",
    "        for j in range(features):\n",
    "            e = self.error(self.H[j],j)\n",
    "            self.alpha[j] = .5*np.log((1-e)/e)\n",
    "        \n",
    "    def determine_H(self):\n",
    "       self.H = [None for j in range(features)]\n",
    "       for j in range(features):\n",
    "            best = float('inf')\n",
    "            X_sorted = X[np.argsort(X[:, j])][:,j]\n",
    "            for split in range(len(X_sorted) - 1):\n",
    "                for ys in [[-1, 1], [1, -1]]:\n",
    "                    e = self.error([X_sorted[split], ys], j)\n",
    "                    if e < best:\n",
    "                        best = e\n",
    "                        self.H[j] = [X_sorted[split], ys]\n",
    "                       \n",
    "\n",
    "         "
   ]
  },
  {
   "cell_type": "code",
   "execution_count": 156,
   "id": "af973941-7923-4f31-8a39-623707624a34",
   "metadata": {},
   "outputs": [
    {
     "name": "stdout",
     "output_type": "stream",
     "text": [
      "[0.16666666666666666, 0.16666666666666666, 0.5, 0.16666666666666666]\n",
      "[0.16666666666666669, 0.16666666666666669, 0.5000000000000001, 0.16666666666666669]\n",
      "[0.125, 0.24999999999999994, 0.375, 0.24999999999999994]\n",
      "[0.08333333333333334, 0.33333333333333326, 0.25000000000000006, 0.33333333333333326]\n",
      "[0.05555555555555556, 0.22222222222222218, 0.5000000000000001, 0.22222222222222218]\n",
      "[0.07142857142857142, 0.14285714285714285, 0.6428571428571429, 0.14285714285714285]\n",
      "[0.16666666666666666, 0.09090909090909091, 0.4090909090909091, 0.3333333333333333]\n",
      "[0.2619047619047619, 0.03896103896103897, 0.17532467532467533, 0.5238095238095238]\n",
      "[0.15879265091863518, 0.023622047244094488, 0.49999999999999983, 0.31758530183727035]\n",
      "[0.06626506024096387, 0.03614457831325302, 0.7650602409638554, 0.13253012048192775]\n",
      "[0.039855072463768126, 0.10714285714285712, 0.4601449275362319, 0.3928571428571428]\n",
      "[0.013445084686572385, 0.17814113597246126, 0.15522961410860842, 0.6531841652323579]\n",
      "[0.007957833815626298, 0.10543760703950865, 0.5, 0.386604559144865]\n",
      "[0.013093011392620313, 0.03519809556197926, 0.8226492093181431, 0.1290596837272573]\n",
      "[0.046052631578947394, 0.020515361744301294, 0.4794846382556987, 0.4539473684210526]\n",
      "[0.07901225176527447, 0.005832627926623324, 0.1363200671932543, 0.7788350531148479]\n",
      "[0.04574162763542754, 0.0033766142439298832, 0.5, 0.4508817581206426]\n",
      "[0.012942039194157717, 0.005765373371159256, 0.8537210582351284, 0.12757152919955456]\n",
      "[0.007466591823597115, 0.02161957140147924, 0.49253340817640284, 0.4783804285985208]\n",
      "[0.0019911444530365135, 0.03747376943179921, 0.13134575811767726, 0.8291893279974869]\n",
      "[0.0011461087490471586, 0.02157001464161146, 0.5, 0.4772838766093413]\n",
      "[0.0019832465921346487, 0.005742505056977782, 0.8652087307524099, 0.12706551759847767]\n"
     ]
    }
   ],
   "source": [
    "boost = boosting(10)\n",
    "boost.iterate()"
   ]
  },
  {
   "cell_type": "code",
   "execution_count": 158,
   "id": "e29674f6-5b83-4560-a6b8-64a837f0c394",
   "metadata": {},
   "outputs": [
    {
     "data": {
      "text/plain": [
       "-1.0"
      ]
     },
     "execution_count": 158,
     "metadata": {},
     "output_type": "execute_result"
    }
   ],
   "source": [
    "boost.predict([4,3])"
   ]
  },
  {
   "cell_type": "code",
   "execution_count": null,
   "id": "926e2900-0597-422b-8902-9a41efa59597",
   "metadata": {},
   "outputs": [],
   "source": []
  }
 ],
 "metadata": {
  "kernelspec": {
   "display_name": "Python 3 (ipykernel)",
   "language": "python",
   "name": "python3"
  },
  "language_info": {
   "codemirror_mode": {
    "name": "ipython",
    "version": 3
   },
   "file_extension": ".py",
   "mimetype": "text/x-python",
   "name": "python",
   "nbconvert_exporter": "python",
   "pygments_lexer": "ipython3",
   "version": "3.11.7"
  }
 },
 "nbformat": 4,
 "nbformat_minor": 5
}
