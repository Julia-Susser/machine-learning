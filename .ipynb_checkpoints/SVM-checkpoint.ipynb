{
 "cells": [
  {
   "cell_type": "code",
   "execution_count": 147,
   "id": "82e88401-7ea9-4549-b23c-886a0bd13b99",
   "metadata": {},
   "outputs": [
    {
     "name": "stdout",
     "output_type": "stream",
     "text": [
      "[2, 1, 0, 3]\n",
      "0 0 2\n",
      "Choice [2, 0]\n",
      "[1, 3, 0, 2]\n",
      "-0.0 0 1\n",
      "Choice [1, 2]\n",
      "[3, 1, 0, 2]\n",
      "0.54 0 3\n",
      "Choice [3, 1]\n",
      "[1, 0, 2, 3]\n",
      "-0.040000000000000036 0 1\n",
      "Choice [1, 2]\n",
      "[1, 0, 3, 2]\n",
      "0.1399999999999999 0.0 1\n",
      "Choice [1, 2]\n",
      "[3, 0, 2, 1]\n",
      "0.42000000000000015 0.02 3\n",
      "Choice [3, 1]\n",
      "[1, 2, 3, 0]\n",
      "0.28 0 1\n",
      "Choice [1, 2]\n",
      "[1, 0, 2, 3]\n",
      "0.14 0.0 1\n",
      "Choice [1, 2]\n",
      "[0, 1, 3, 2]\n",
      "0.41999999999999993 0 0\n",
      "Choice [0, 2]\n",
      "[1, 2, 0, 3]\n",
      "-0.0 0.0 1\n",
      "Choice [1, 2]\n",
      "-1 [1 1] -1.0\n",
      "-1 [2 2] -1.0\n",
      "1 [3 3] 1.0\n",
      "1 [4 4] 1.0\n"
     ]
    }
   ],
   "source": [
    "import numpy as np\n",
    "import random\n",
    "\n",
    "#https://github.com/Girrajjangid/Machine-Learning-from-Scratch/tree/master/Support%20Vector%20Machine\n",
    "\n",
    "#soft margin\n",
    "class SVM():\n",
    "    def __init__(self):\n",
    "        #constraint that sum of aiyi=0\n",
    "        self.C = .02\n",
    "        self.m = len(Y)\n",
    "        self.alpha = [0 for x in range(self.m)]\n",
    "        self.b = 0\n",
    "        self.tol = 10**-10\n",
    "        self.max_passes = 10\n",
    "        self.run_algo()\n",
    "\n",
    "        \n",
    "    def kernel(self,xi,xj):\n",
    "        return np.dot(xi,xj)\n",
    "        \n",
    "    def run_algo(self):\n",
    "        count = 0\n",
    "        while count < self.max_passes:\n",
    "            a_choice = self.heuristic_choose_a()\n",
    "            print(\"Choice\",a_choice)\n",
    "            if a_choice == None:\n",
    "                return\n",
    "            self.SMO(a_choice[0],a_choice[1])\n",
    "            count += 1\n",
    "        \n",
    "    def SMO(self,one,two):\n",
    "        x1 = X[one]\n",
    "        y1 = Y[one]\n",
    "        x2 = X[two]\n",
    "        y2 = Y[two]\n",
    "        n = self.kernel(x1,x1)+ self.kernel(x2,x2) - 2* self.kernel(x1,x2)\n",
    "        E1 = self.f(x1) - y1\n",
    "        E2 = self.f(x2) - y2\n",
    "        a2 = self.alpha[two]\n",
    "        a1 = self.alpha[one]\n",
    "        a2_new = a2+(E1-E2)/n\n",
    "        if y1==y2:\n",
    "            L = max(0, a2+a1-self.C)\n",
    "            H = min(self.C,a2+a1)\n",
    "        else:\n",
    "            L = max(0, a2-a1)\n",
    "            H = min(self.C, self.C+a2-a1)\n",
    "        a2_new = min(max(a2_new,L),H)\n",
    "        a1_new = a1 - y1*(a2-a2_new)\n",
    "        self.alpha[two] = a2_new\n",
    "       \n",
    "        self.alpha[one] = a1_new\n",
    "        #can't update b using support vector if its a soft margin\n",
    "        b1 = self.b - (E1 + y1*(a1_new-a1)*self.kernel(x1,x1)+y2*(a2_new - a2)*self.kernel(x1,x2))\n",
    "        b2 = self.b - (E2 + y2*(a1_new-a1)*self.kernel(x1,x2)+y2*(a2_new - a2)*self.kernel(x2,x2))\n",
    "        self.b = (b1+b2)/2 #if unclipped, b1=b2=b\n",
    "        \n",
    "\n",
    "    def margin(self,i):\n",
    "        return self.f(X[i])*Y[i]\n",
    "        \n",
    "    def heuristic_choose_a(self):\n",
    "        random_order = list(range(self.m))  \n",
    "        random.shuffle(random_order)  \n",
    "        print(random_order)\n",
    "        i = None\n",
    "        for i in random_order:\n",
    "            ai = self.alpha[i]\n",
    "            margin = self.margin(i)\n",
    "            print(margin, self.alpha[i],i)\n",
    "            if ai==0 and not (margin >= 1-self.tol):\n",
    "                break\n",
    "            if ai==self.C and (margin <= 1+self.tol):\n",
    "                break\n",
    "            if ai>0 and ai<self.C and not (margin >=1-self.tol and margin <= 1+self.tol) :\n",
    "                break\n",
    "        if i == None: return\n",
    "            \n",
    "        one = i\n",
    "        e1 = self.f(X[one])-Y[one]\n",
    "        max_error = 0\n",
    "        two = i\n",
    "        for i in range(self.m):\n",
    "            e2 = self.f(X[i])-Y[i]\n",
    "            curr = np.abs(e1-e2)\n",
    "            if max_error < curr:\n",
    "                max_error = curr\n",
    "                two = i\n",
    "        return [one,two]\n",
    "\n",
    "\n",
    "        \n",
    "    def f(self,x):\n",
    "        u = 0\n",
    "        for i in range(self.m):\n",
    "            u += self.alpha[i]*Y[i]*self.kernel(X[i],x)\n",
    "        \n",
    "        return u + self.b\n",
    "        \n",
    "    def f2(self,x):\n",
    "        u = 0\n",
    "        for i in range(self.m):\n",
    "            u += self.alpha[i]*Y[i]*self.kernel(X[i],x)\n",
    "        print(u)\n",
    "        return u + self.b\n",
    "\n",
    "    def predict(self,x):\n",
    "        return np.sign(self.f(x))\n",
    "\n",
    "X = np.array([[1,1],[2,2],[3,3],[4,4]])\n",
    "Y = [-1,-1,1,1]\n",
    "m = len(Y)\n",
    "\n",
    "svm = SVM()\n",
    "for i in range(m):\n",
    "    print(Y[i],X[i],svm.predict(X[i]))\n",
    "        "
   ]
  },
  {
   "cell_type": "code",
   "execution_count": 146,
   "id": "9146e926-7fc3-42a2-8ab8-6d766d28fa4a",
   "metadata": {},
   "outputs": [
    {
     "data": {
      "text/plain": [
       "0.0"
      ]
     },
     "execution_count": 146,
     "metadata": {},
     "output_type": "execute_result"
    }
   ],
   "source": [
    "svm.margin(2)"
   ]
  },
  {
   "cell_type": "code",
   "execution_count": 144,
   "id": "7bcdb8f7-61fe-493c-8fee-6f121ea1dbe9",
   "metadata": {},
   "outputs": [
    {
     "data": {
      "text/plain": [
       "[0.5, 0.0, 1.0, 0]"
      ]
     },
     "execution_count": 144,
     "metadata": {},
     "output_type": "execute_result"
    }
   ],
   "source": [
    "svm.alpha"
   ]
  },
  {
   "cell_type": "code",
   "execution_count": 123,
   "id": "589f19d6-2141-4d96-8061-637223411c98",
   "metadata": {},
   "outputs": [
    {
     "data": {
      "text/plain": [
       "-0.30000000000000004"
      ]
     },
     "execution_count": 123,
     "metadata": {},
     "output_type": "execute_result"
    }
   ],
   "source": [
    "svm.b"
   ]
  },
  {
   "cell_type": "code",
   "execution_count": null,
   "id": "e9ee3cbe-cd8c-41e0-b86c-4e84ac78a9a7",
   "metadata": {},
   "outputs": [],
   "source": []
  }
 ],
 "metadata": {
  "kernelspec": {
   "display_name": "Python 3 (ipykernel)",
   "language": "python",
   "name": "python3"
  },
  "language_info": {
   "codemirror_mode": {
    "name": "ipython",
    "version": 3
   },
   "file_extension": ".py",
   "mimetype": "text/x-python",
   "name": "python",
   "nbconvert_exporter": "python",
   "pygments_lexer": "ipython3",
   "version": "3.11.7"
  }
 },
 "nbformat": 4,
 "nbformat_minor": 5
}
